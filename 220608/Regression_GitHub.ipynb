{
 "cells": [
  {
   "cell_type": "markdown",
   "id": "0d804e16",
   "metadata": {},
   "source": [
    "# Least Squares Regression"
   ]
  },
  {
   "cell_type": "markdown",
   "id": "34d927f5",
   "metadata": {},
   "source": [
    "Curve fitting described the operation of finding a mathematical relationship that best describes an experimental set of given data points. Curve fitting is applied to data that contain scatter, typically caused by measurement errors and/or noise. The simplest example is that of a univariate dataset $x_1, x_2,...,x_n$ and the corresponding observations $y_1,y_2,y_n$. The error between function value $\\hat{f}(x_k)$ and the measured data point is defined as the **residual**. The best fit $\\hat{f}(x)$ to the data points is calculated by minimizing the sum of residuals squared: \n",
    "\n",
    "$\\min_{x} = \\left\\{ \\sum^n_{i=1}\\left[y_i-\\hat{f}_i\\right]^2 \\right\\}$"
   ]
  },
  {
   "cell_type": "markdown",
   "id": "405e509e",
   "metadata": {},
   "source": [
    "This minimization problem is called **least squares regression**. The residual error could be either positive or negative, and the sum of residual errors squared is used to avoid the possibility that the sign of the residual could influence the accuracy of the fitted function.\n",
    "\n",
    "A least square regression problem is called linear if the chosen function is linear in terms of the unknown parameters used in the fit, but not be linear in the independent variable!\n",
    "For example, the functions below are all linear with respect to the fitting parameters:\n",
    "\n",
    "$\\hat{f}(x) = ax + b$\n",
    "\n",
    "$\\hat{f}(x) = ax^2 + bx + c$\n",
    "\n",
    "$\\hat{f}(x) = a\\cdot e^x + b\\cdot sin(x)$\n"
   ]
  }
 ],
 "metadata": {
  "kernelspec": {
   "display_name": "Julia 1.6.3",
   "language": "julia",
   "name": "julia-1.6"
  },
  "language_info": {
   "file_extension": ".jl",
   "mimetype": "application/julia",
   "name": "julia",
   "version": "1.6.3"
  }
 },
 "nbformat": 4,
 "nbformat_minor": 5
}
