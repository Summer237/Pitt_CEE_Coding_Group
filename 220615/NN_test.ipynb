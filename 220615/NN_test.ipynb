{
 "cells": [
  {
   "cell_type": "code",
   "execution_count": 85,
   "id": "381f776f",
   "metadata": {
    "scrolled": true
   },
   "outputs": [
    {
     "data": {
      "text/plain": [
       "[<matplotlib.lines.Line2D at 0x7f8bf4964cd0>]"
      ]
     },
     "execution_count": 85,
     "metadata": {},
     "output_type": "execute_result"
    },
    {
     "data": {
      "image/png": "[encoded data removed]",
      "text/plain": [
       "<Figure size 432x288 with 1 Axes>"
      ]
     },
     "metadata": {
      "needs_background": "light"
     },
     "output_type": "display_data"
    }
   ],
   "source": [
    "import math\n",
    "import numpy as np\n",
    "import matplotlib.pyplot as plt\n",
    "\n",
    "x = np.arange(0,10,0.0001)\n",
    "y = np.power(x,3) - np.multiply(12,x) + np.multiply(np.random.randn(len(x)),x)\n",
    "plt.plot(x,y)"
   ]
  },
  {
   "cell_type": "code",
   "execution_count": null,
   "id": "0b6122a4",
   "metadata": {},
   "outputs": [
    {
     "name": "stdout",
     "output_type": "stream",
     "text": [
      "Model: \"sequential_8\"\n",
      "_________________________________________________________________\n",
      " Layer (type)                Output Shape              Param #   \n",
      "=================================================================\n",
      " dense_15 (Dense)            (None, 1)                 2         \n",
      "                                                                 \n",
      "=================================================================\n",
      "Total params: 2\n",
      "Trainable params: 2\n",
      "Non-trainable params: 0\n",
      "_________________________________________________________________\n",
      "Epoch 1/100\n",
      "3125/3125 [==============================] - 2s 551us/step - loss: 99698.1328\n",
      "Epoch 2/100\n",
      "3125/3125 [==============================] - 2s 528us/step - loss: 99698.2188\n",
      "Epoch 3/100\n",
      "3125/3125 [==============================] - 2s 533us/step - loss: 99698.2031\n",
      "Epoch 4/100\n",
      "3125/3125 [==============================] - 2s 545us/step - loss: 99698.1172\n",
      "Epoch 5/100\n",
      "3125/3125 [==============================] - 2s 564us/step - loss: 99698.2031\n",
      "Epoch 6/100\n",
      "3125/3125 [==============================] - 2s 543us/step - loss: 99698.2578\n",
      "Epoch 7/100\n",
      "3125/3125 [==============================] - 2s 548us/step - loss: 99698.1484\n",
      "Epoch 8/100\n",
      "3125/3125 [==============================] - 2s 529us/step - loss: 99698.1172\n",
      "Epoch 9/100\n",
      "3125/3125 [==============================] - 2s 527us/step - loss: 99698.2031\n",
      "Epoch 10/100\n",
      "3125/3125 [==============================] - 2s 535us/step - loss: 99698.2812\n",
      "Epoch 11/100\n",
      "3125/3125 [==============================] - 2s 527us/step - loss: 99698.2188\n",
      "Epoch 12/100\n",
      "3125/3125 [==============================] - 2s 528us/step - loss: 99698.2656\n",
      "Epoch 13/100\n",
      "3125/3125 [==============================] - 2s 529us/step - loss: 99698.1328\n",
      "Epoch 14/100\n",
      "3125/3125 [==============================] - 2s 532us/step - loss: 99698.2188\n",
      "Epoch 15/100\n",
      "3125/3125 [==============================] - 2s 528us/step - loss: 99698.2031\n",
      "Epoch 16/100\n",
      "3125/3125 [==============================] - 2s 527us/step - loss: 99698.1328\n",
      "Epoch 17/100\n",
      "3125/3125 [==============================] - 2s 529us/step - loss: 99698.2344\n",
      "Epoch 18/100\n",
      "3125/3125 [==============================] - 2s 531us/step - loss: 99698.1484\n",
      "Epoch 19/100\n",
      "3125/3125 [==============================] - 2s 534us/step - loss: 99698.2500\n",
      "Epoch 20/100\n",
      " 836/3125 [=======>......................] - ETA: 1s - loss: 100414.0312"
     ]
    }
   ],
   "source": [
    "from keras.models import Sequential\n",
    "from keras.layers import Dense, Activation\n",
    "\n",
    "# Define the network model and its arguments. \n",
    "# Set the number of neurons/nodes for each layer:\n",
    "model = Sequential()\n",
    "model.add(Dense(1, input_dim=1, activation='relu'))\n",
    "\n",
    "# Compile the model and calculate its accuracy:\n",
    "model.compile(loss='mean_squared_error', optimizer='adam') \n",
    "\n",
    "# Print a summary of the Keras model:\n",
    "model.summary()\n",
    "\n",
    "# Train this thing\n",
    "model.fit(x, y, epochs = 100)\n"
   ]
  },
  {
   "cell_type": "code",
   "execution_count": 90,
   "id": "13e242b9",
   "metadata": {},
   "outputs": [
    {
     "name": "stdout",
     "output_type": "stream",
     "text": [
      "3125/3125 [==============================] - 1s 454us/step\n"
     ]
    }
   ],
   "source": [
    "predictions = model.predict(x)"
   ]
  },
  {
   "cell_type": "code",
   "execution_count": 95,
   "id": "c4b4d8de",
   "metadata": {},
   "outputs": [
    {
     "data": {
      "text/plain": [
       "100000"
      ]
     },
     "execution_count": 95,
     "metadata": {},
     "output_type": "execute_result"
    }
   ],
   "source": [
    "len(y)"
   ]
  },
  {
   "cell_type": "code",
   "execution_count": 96,
   "id": "e0222583",
   "metadata": {},
   "outputs": [
    {
     "data": {
      "text/plain": [
       "100000"
      ]
     },
     "execution_count": 96,
     "metadata": {},
     "output_type": "execute_result"
    }
   ],
   "source": [
    "len(predictions)"
   ]
  },
  {
   "cell_type": "code",
   "execution_count": 97,
   "id": "36773930",
   "metadata": {},
   "outputs": [
    {
     "data": {
      "text/plain": [
       "100000"
      ]
     },
     "execution_count": 97,
     "metadata": {},
     "output_type": "execute_result"
    }
   ],
   "source": [
    "len(x)"
   ]
  },
  {
   "cell_type": "code",
   "execution_count": 99,
   "id": "1ca8c92a",
   "metadata": {},
   "outputs": [
    {
     "data": {
      "text/plain": [
       "[<matplotlib.lines.Line2D at 0x7f8bc1750af0>,\n",
       " <matplotlib.lines.Line2D at 0x7f8bc1750c70>,\n",
       " <matplotlib.lines.Line2D at 0x7f8bc1750ca0>,\n",
       " <matplotlib.lines.Line2D at 0x7f8bc1750cd0>]"
      ]
     },
     "execution_count": 99,
     "metadata": {},
     "output_type": "execute_result"
    },
    {
     "data": {
      "image/png": "[encoded data removed]",
      "text/plain": [
       "<Figure size 432x288 with 1 Axes>"
      ]
     },
     "metadata": {
      "needs_background": "light"
     },
     "output_type": "display_data"
    }
   ],
   "source": [
    "plt.plot(x,predictions)"
   ]
  }
 ],
 "metadata": {
  "kernelspec": {
   "display_name": "Python 3 (ipykernel)",
   "language": "python",
   "name": "python3"
  },
  "language_info": {
   "codemirror_mode": {
    "name": "ipython",
    "version": 3
   },
   "file_extension": ".py",
   "mimetype": "text/x-python",
   "name": "python",
   "nbconvert_exporter": "python",
   "pygments_lexer": "ipython3",
   "version": "3.9.7"
  }
 },
 "nbformat": 4,
 "nbformat_minor": 5
}
